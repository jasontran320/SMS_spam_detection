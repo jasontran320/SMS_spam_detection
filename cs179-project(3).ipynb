{
 "cells": [
  {
   "cell_type": "markdown",
   "id": "c5d101b6",
   "metadata": {},
   "source": [
    "This notebook uses the SMS Spam Collection dataset: https://archive.ics.uci.edu/dataset/228/sms+spam+collection."
   ]
  },
  {
   "cell_type": "code",
   "execution_count": 39,
   "id": "78755ed7",
   "metadata": {},
   "outputs": [],
   "source": [
    "from collections import defaultdict\n",
    "import random\n",
    "\n",
    "from sklearn.metrics import confusion_matrix, ConfusionMatrixDisplay\n",
    "from nltk.corpus import stopwords\n",
    "from nltk.tokenize import word_tokenize\n",
    "from nltk.stem import WordNetLemmatizer\n",
    "import matplotlib.pyplot as plt\n",
    "import numpy as np\n",
    "\n",
    "random.seed(1234)"
   ]
  },
  {
   "cell_type": "markdown",
   "id": "a15d754e",
   "metadata": {},
   "source": [
    "Start by loading the data and randomly separating it into train and test categories (2/3 into train, 1/3 into test). These are represented by `tr_data` and `te_data` which are of the form:\n",
    "- `tr_data = {'ham': [message1, message2, message3, ...], 'spam': [message1, message2, message3, ...]}`\n",
    "- `te_data = {'ham': [message1, message2, message3, ...], 'spam': [message1, message2, message3, ...]}`"
   ]
  },
  {
   "cell_type": "code",
   "execution_count": 3,
   "id": "dbd0bce0",
   "metadata": {},
   "outputs": [],
   "source": [
    "# Load the data into 2/3 training and 1/3 testing\n",
    "with open('SMSSpamCollection', 'r', encoding = 'utf-8') as file:\n",
    "    data = [line for line in file]\n",
    "\n",
    "random.shuffle(data)\n",
    "\n",
    "split_index = 2 * len(data) // 3\n",
    "tr_data_list = data[:split_index]\n",
    "te_data_list = data[split_index:]\n",
    "\n",
    "tr_data = defaultdict(lambda : list())\n",
    "te_data = defaultdict(lambda : list())\n",
    "\n",
    "for line in tr_data_list:\n",
    "    line = line.strip().split('\\t')\n",
    "    assert len(line) == 2\n",
    "    tr_data[line[0]].append(line[1])\n",
    "\n",
    "for line in te_data_list:\n",
    "    line = line.strip().split('\\t')\n",
    "    assert len(line) == 2\n",
    "    te_data[line[0]].append(line[1])"
   ]
  },
  {
   "cell_type": "code",
   "execution_count": 12,
   "id": "69ae3812",
   "metadata": {},
   "outputs": [
    {
     "name": "stdout",
     "output_type": "stream",
     "text": [
      "TRAIN DATA:\n",
      "Number of ham messages: 3212\n",
      "Number of spam messages: 504\n",
      "\n",
      "TEST DATA:\n",
      "Number of ham messages: 1615\n",
      "Number of spam messages: 243\n"
     ]
    }
   ],
   "source": [
    "# Print statistics about the data\n",
    "print(f'TRAIN DATA:')\n",
    "print(f'Number of ham messages: {len(tr_data[\"ham\"])}')\n",
    "print(f'Number of spam messages: {len(tr_data[\"spam\"])}')\n",
    "print(f'\\nTEST DATA:')\n",
    "print(f'Number of ham messages: {len(te_data[\"ham\"])}')\n",
    "print(f'Number of spam messages: {len(te_data[\"spam\"])}')"
   ]
  },
  {
   "cell_type": "markdown",
   "id": "3c5a15be",
   "metadata": {},
   "source": [
    "Next, preprocess the data by tokenizing the messages, lowercasing each word, and lemmatizing each word. As a result, each message becomes:\n",
    "- `message` $\\rightarrow$ `[word1, word2, word3, ...]`\n",
    "\n",
    "This mean that the `tr_data` and `te_data` data structures hold the following:\n",
    "- `{'ham': [[m1w1, m1w2, m1w3, ...], [m2w1, m2w2, m2w3, ...], ...], 'spam': [[m1w1, m1w2, m1w3, ...], [m2w1, m2w2, m2w3, ...], ...]}`"
   ]
  },
  {
   "cell_type": "code",
   "execution_count": 20,
   "id": "7b4fc749",
   "metadata": {},
   "outputs": [],
   "source": [
    "# Data preparation: tokenize the messages, remove stop words, lemmatize and lowercase each word\n",
    "stop_words = set(stopwords.words('english'))\n",
    "lemmatizer = WordNetLemmatizer()\n",
    "\n",
    "def tokenize_and_preprocess(data):\n",
    "    new_data = defaultdict(lambda : list())\n",
    "    \n",
    "    for message in data['ham']:\n",
    "        new_data['ham'].append([lemmatizer.lemmatize(token.lower()) for token in word_tokenize(message) if token not in stop_words and len(token) > 0])\n",
    "\n",
    "    for message in data['spam']:\n",
    "        new_data['spam'].append([lemmatizer.lemmatize(token.lower()) for token in word_tokenize(message) if token not in stop_words and len(token) > 0])\n",
    "\n",
    "    return new_data\n",
    "\n",
    "tr_data = tokenize_and_preprocess(tr_data)\n",
    "te_data = tokenize_and_preprocess(te_data)"
   ]
  },
  {
   "cell_type": "markdown",
   "id": "67560e53",
   "metadata": {},
   "source": [
    "Next, obtain the probability distribution of the words. `words` is a sorted list of every (preprocessed) word in the dataset. `ham_words` is a dictionary that contains the frequency of words in the ham training set. `spam_words` is the same but for the spam training set. These dictionaries are used to compute the probability of each word appearing in the ham/spam datasets. These probability distributions are stacked to form the observation state distribution (size `2 x n` which represents the 2 categories, ham and spam, and the `n` number of possible words).\n",
    "\n",
    "Note that the order of words is maintained (increasing alphabetically) for consistency. This way, the first column in `obs_prob_matrix` represents the same word, the second column represents the same word, and so on."
   ]
  },
  {
   "cell_type": "code",
   "execution_count": 22,
   "id": "5de748f0",
   "metadata": {},
   "outputs": [],
   "source": [
    "# Data preparation: compute observation state distribution (probability distribution of words in training ham/spam datasets)\n",
    "words = sorted(list({lemmatizer.lemmatize(word.lower()) for item in data for word in word_tokenize(item.split('\\t')[1].strip()) if word not in stop_words and len(word) > 0}))\n",
    "ham_words = {word: 0 for word in words}\n",
    "spam_words = {word: 0 for word in words}\n",
    "\n",
    "for line in tr_data['ham']:\n",
    "    for word in line:\n",
    "        ham_words[word] += 1\n",
    "\n",
    "for line in tr_data['spam']:\n",
    "    for word in line:\n",
    "        spam_words[word] += 1\n",
    "\n",
    "ham_probabilities = np.array([item[1] for item in sorted(list((word, freq) for word, freq in ham_words.items()))])\n",
    "ham_probabilities = ham_probabilities / np.sum(ham_probabilities)\n",
    "spam_probabilities = np.array([item[1] for item in sorted(list((word, freq) for word, freq in spam_words.items()))])\n",
    "spam_probabilities = spam_probabilities / np.sum(spam_probabilities)\n",
    "\n",
    "obs_prob_matrix = np.stack([ham_probabilities, spam_probabilities])"
   ]
  },
  {
   "cell_type": "markdown",
   "id": "c842e095",
   "metadata": {},
   "source": [
    "Initialize the HMM parameters. The starting probability distribution is `[0.5, 0.5]` to signify that either category (ham or spam) is equally likely. The transition matrix is initialized to `[[0.5, 0.5], [0.5, 0.5]]` to signify that transitioning to any state from any state is equally likely."
   ]
  },
  {
   "cell_type": "code",
   "execution_count": 23,
   "id": "0236a4d4",
   "metadata": {},
   "outputs": [],
   "source": [
    "# Data preparation: initialize discrete HMM model\n",
    "initial = np.array([0.5, 0.5])\n",
    "T = np.array([[0.5, 0.5], [0.5, 0.5]])\n",
    "O = obs_prob_matrix"
   ]
  },
  {
   "cell_type": "code",
   "execution_count": 24,
   "id": "baafac28",
   "metadata": {},
   "outputs": [
    {
     "data": {
      "image/png": "[encoded data removed]",
      "text/plain": [
       "<Figure size 648x216 with 2 Axes>"
      ]
     },
     "metadata": {
      "needs_background": "light"
     },
     "output_type": "display_data"
    }
   ],
   "source": [
    "fig, axes = plt.subplots(1, 2, figsize = (9, 3))\n",
    "\n",
    "axes[0].plot(O[0, :])\n",
    "axes[0].set_title('Ham observation state distribution')\n",
    "axes[0].xaxis.set_visible(False)\n",
    "\n",
    "axes[1].plot(O[1, :])\n",
    "axes[1].set_title('Spam observation state distribution')\n",
    "axes[1].xaxis.set_visible(False)"
   ]
  },
  {
   "cell_type": "code",
   "execution_count": 25,
   "id": "80aa2408",
   "metadata": {},
   "outputs": [
    {
     "data": {
      "image/png": "[encoded data removed]",
      "text/plain": [
       "<Figure size 720x576 with 1 Axes>"
      ]
     },
     "metadata": {
      "needs_background": "light"
     },
     "output_type": "display_data"
    }
   ],
   "source": [
    "combined = sorted([ham_words[word] + spam_words[word] for word in words])\n",
    "\n",
    "fig, ax = plt.subplots(figsize = (10, 8))\n",
    "ax.hist(combined, bins = 31, range = (0, 30))\n",
    "ax.set_title('Word frequency distribution')\n",
    "\n",
    "for rect in ax.patches:\n",
    "    height = rect.get_height()\n",
    "    ax.annotate(f'{int(height)}', xy = (rect.get_x() + rect.get_width() / 2, height), xytext = (0, 5), textcoords = 'offset points', ha = 'center', va = 'bottom', fontsize = 9)"
   ]
  },
  {
   "cell_type": "markdown",
   "id": "429fb975",
   "metadata": {},
   "source": [
    "Perform the Baum-Welch algorithm to optimize the HMM parameters."
   ]
  },
  {
   "cell_type": "code",
   "execution_count": 26,
   "id": "7ba07400",
   "metadata": {},
   "outputs": [],
   "source": [
    "# Training: perform Baum–Welch algorithm to optimize HMM parameters\n",
    "def forward(V, T, O, initial_distribution):\n",
    "    alpha = np.zeros((V.shape[0], T.shape[0]))\n",
    "    alpha[0, :] = initial_distribution * O[:, V[0]]\n",
    "\n",
    "    for i in range(1, V.shape[0]):\n",
    "        for j in range(T.shape[0]):\n",
    "            alpha[i, j] = alpha[i - 1] @ T[:, j] * O[j, V[i]]\n",
    "        alpha[i] = alpha[i] / np.sum(alpha[i])\n",
    "\n",
    "    return alpha\n",
    "\n",
    "\n",
    "def backward(V, T, O):\n",
    "    beta = np.zeros((V.shape[0], T.shape[0]))\n",
    "    beta[V.shape[0] - 1] = np.ones((T.shape[0]))\n",
    "\n",
    "    for i in range(V.shape[0] - 2, -1, -1):\n",
    "        for j in range(T.shape[0]):\n",
    "            beta[i, j] = (beta[i + 1] * O[:, V[i + 1]]) @ T[j, :]\n",
    "        beta[i] = beta[i] / np.sum(beta[i])\n",
    "\n",
    "    return beta\n",
    "\n",
    "\n",
    "def baum_welch(V, T, O, initial_distribution, n_iter=100):\n",
    "    M = T.shape[0]\n",
    "    t = len(V)\n",
    "\n",
    "    for n in range(n_iter):\n",
    "        # Estimation\n",
    "        alpha = forward(V, T, O, initial_distribution)\n",
    "        beta = backward(V, T, O)\n",
    "\n",
    "        xi = np.zeros((M, M, t - 1))\n",
    "        for i in range(t - 1):\n",
    "            denominator = (alpha[i, :].T @ T * O[:, V[i + 1]].T) @ beta[i + 1, :]\n",
    "            for j in range(M):\n",
    "                numerator = alpha[i, j] * T[j, :] * O[:, V[i + 1]].T * beta[i + 1, :].T\n",
    "                xi[j, :, i] = numerator / denominator\n",
    "\n",
    "        gamma = np.sum(xi, axis=1)\n",
    "\n",
    "        # Maximization\n",
    "        T = np.sum(xi, 2) / np.sum(gamma, axis=1).reshape((-1, 1))\n",
    "\n",
    "        # Add additional T'th element in gamma\n",
    "        gamma = np.hstack((gamma, np.sum(xi[:, :, t - 2], axis=0).reshape((-1, 1))))\n",
    "\n",
    "        K = O.shape[1]\n",
    "        denominator = np.sum(gamma, axis=1)\n",
    "        for l in range(K):\n",
    "            O[:, l] = np.sum(gamma[:, V == l], axis=1)\n",
    "\n",
    "        O = np.divide(O, denominator.reshape((-1, 1)))\n",
    "\n",
    "        T = np.array([T[i] / np.sum(T[i]) for i in range(T.shape[0])])\n",
    "\n",
    "    return T, O\n",
    "\n",
    "observation_sequence = np.array([words.index(w) for line in tr_data['ham'] + tr_data['spam'] for w in line])\n",
    "T, O = baum_welch(observation_sequence, T, O, initial)"
   ]
  },
  {
   "cell_type": "markdown",
   "id": "40428ec2",
   "metadata": {},
   "source": [
    "Test the accuracy of the trained HMM model by using the Viterbi algorithm and testing dataset."
   ]
  },
  {
   "cell_type": "code",
   "execution_count": 27,
   "id": "f9a32479",
   "metadata": {},
   "outputs": [],
   "source": [
    "# Testing: define Viterbi algorithm for classification task\n",
    "def most_likely_state_sequence(T, O, initial, X):\n",
    "    # Initialize the probability distribution table and the most likely previous state\n",
    "    prob_table = np.zeros((len(X), len(T)))\n",
    "    prev_most_likely = np.zeros((len(X), len(T)))\n",
    "\n",
    "    prob_table[0] = initial\n",
    "\n",
    "    # Forward pass through observation sequence\n",
    "    for i in range(1, len(X)):\n",
    "        for j in range(len(T)):\n",
    "            prob_table[i, j] = np.max(prob_table[i - 1] * T[:, j]) * O[j, X[i]]            \n",
    "            prev_most_likely[i, j] = np.argmax(prob_table[i - 1] * T[:, j])\n",
    "\n",
    "        if not all(prob_table[i, :]): prev_most_likely[i, :] = np.random.choice(2, 2, p = [0.5, 0.5])\n",
    "\n",
    "    # Backward pass through observation sequence to find most likely sequence\n",
    "    sequence = [np.argmax(prob_table[-1])]\n",
    "    for k in range(len(X) - 1, 0, -1):\n",
    "        sequence.append(int(prev_most_likely[k][sequence[-1]]))\n",
    "\n",
    "    # Return the output sequence\n",
    "    return np.array(sequence[::-1])"
   ]
  },
  {
   "cell_type": "code",
   "execution_count": 34,
   "id": "46c90cce",
   "metadata": {},
   "outputs": [],
   "source": [
    "def evaluate_accuracy(data, words, T, O, initial):\n",
    "    true = []\n",
    "    pred = []\n",
    "\n",
    "    for line in data['ham']:\n",
    "        true_label = 0  # Ham\n",
    "        true.append(true_label)\n",
    "        most_likely = most_likely_state_sequence(T, O, initial, [words.index(w) for w in line])\n",
    "\n",
    "        for i in range(5):\n",
    "            most_likely = np.append(most_likely, most_likely_state_sequence(T, O, initial, [words.index(w) for w in line]))\n",
    "\n",
    "        bin_count = np.bincount(most_likely)\n",
    "        predicted_label = np.argmax(bin_count)\n",
    "        pred.append(predicted_label)\n",
    "\n",
    "    for line in data['spam']:\n",
    "        true_label = 1  # Spam\n",
    "        true.append(true_label)\n",
    "        most_likely = most_likely_state_sequence(T, O, initial, [words.index(w) for w in line])\n",
    "\n",
    "        for i in range(5):\n",
    "            most_likely = np.append(most_likely, most_likely_state_sequence(T, O, initial, [words.index(w) for w in line]))\n",
    "\n",
    "        bin_count = np.bincount(most_likely)\n",
    "        predicted_label = np.argmax(bin_count)\n",
    "        pred.append(predicted_label)\n",
    "\n",
    "    return true, pred\n",
    "\n",
    "def calculate_accuracy(y_true, y_pred):\n",
    "    correct_ham = sum((np.array(y_true) == 0) & (np.array(y_pred) == 0))\n",
    "    correct_spam = sum((np.array(y_true) == 1) & (np.array(y_pred) == 1))\n",
    "    \n",
    "    ham_accuracy = correct_ham / sum(np.array(y_true) == 0)\n",
    "    spam_accuracy = correct_spam / sum(np.array(y_true) == 1)\n",
    "    overall_accuracy = (correct_ham + correct_spam) / len(y_true)\n",
    "    \n",
    "    return ham_accuracy, spam_accuracy, overall_accuracy"
   ]
  },
  {
   "cell_type": "code",
   "execution_count": 40,
   "id": "2c39ce4f",
   "metadata": {},
   "outputs": [
    {
     "data": {
      "image/png": "[encoded data removed]",
      "text/plain": [
       "<Figure size 432x288 with 2 Axes>"
      ]
     },
     "metadata": {
      "needs_background": "light"
     },
     "output_type": "display_data"
    },
    {
     "name": "stdout",
     "output_type": "stream",
     "text": [
      "TRAINING DATA:\n",
      "Ham accuracy: 0.9632627646326276\n",
      "Spam accuracy: 0.9821428571428571\n",
      "Overall accuracy: 0.9658234660925726\n"
     ]
    },
    {
     "data": {
      "image/png": "[encoded data removed]",
      "text/plain": [
       "<Figure size 432x288 with 2 Axes>"
      ]
     },
     "metadata": {
      "needs_background": "light"
     },
     "output_type": "display_data"
    },
    {
     "name": "stdout",
     "output_type": "stream",
     "text": [
      "\n",
      "TESTING DATA:\n",
      "Ham accuracy: 0.9188854489164087\n",
      "Spam accuracy: 0.6707818930041153\n",
      "Overall accuracy: 0.8864370290635092\n",
      "Wall time: 26.5 s\n"
     ]
    }
   ],
   "source": [
    "%%time\n",
    "# Testing: perform tests on training and testing data\n",
    "\n",
    "train_y_true, train_y_pred = evaluate_accuracy(tr_data, words, T, O, initial)\n",
    "train_cm = confusion_matrix(train_y_true, train_y_pred)\n",
    "train_disp = ConfusionMatrixDisplay(confusion_matrix=train_cm, display_labels=['Ham', 'Spam'])\n",
    "train_disp.plot(cmap=plt.cm.Blues)\n",
    "plt.title('Confusion Matrix - Training Data')\n",
    "plt.show()\n",
    "\n",
    "train_ham_accuracy, train_spam_accuracy, train_overall_accuracy = calculate_accuracy(train_y_true, train_y_pred)\n",
    "\n",
    "print(f'TRAINING DATA:')\n",
    "print(f'Ham accuracy: {train_ham_accuracy}')\n",
    "print(f'Spam accuracy: {train_spam_accuracy}')\n",
    "print(f'Overall accuracy: {train_overall_accuracy}')\n",
    "\n",
    "test_y_true, test_y_pred = evaluate_accuracy(te_data, words, T, O, initial)\n",
    "test_cm = confusion_matrix(test_y_true, test_y_pred)\n",
    "test_disp = ConfusionMatrixDisplay(confusion_matrix=test_cm, display_labels=['Ham', 'Spam'])\n",
    "test_disp.plot(cmap=plt.cm.Blues)\n",
    "plt.title('Confusion Matrix - Testing Data')\n",
    "plt.show()\n",
    "\n",
    "test_ham_accuracy, test_spam_accuracy, test_overall_accuracy = calculate_accuracy(test_y_true, test_y_pred)\n",
    "\n",
    "print(f'\\nTESTING DATA:')\n",
    "print(f'Ham accuracy: {test_ham_accuracy}')\n",
    "print(f'Spam accuracy: {test_spam_accuracy}')\n",
    "print(f'Overall accuracy: {test_overall_accuracy}')"
   ]
  },
  {
   "cell_type": "code",
   "execution_count": null,
   "id": "2b9fcfef",
   "metadata": {},
   "outputs": [],
   "source": []
  }
 ],
 "metadata": {
  "kernelspec": {
   "display_name": "Python 3 (ipykernel)",
   "language": "python",
   "name": "python3"
  },
  "language_info": {
   "codemirror_mode": {
    "name": "ipython",
    "version": 3
   },
   "file_extension": ".py",
   "mimetype": "text/x-python",
   "name": "python",
   "nbconvert_exporter": "python",
   "pygments_lexer": "ipython3",
   "version": "3.9.7"
  }
 },
 "nbformat": 4,
 "nbformat_minor": 5
}
